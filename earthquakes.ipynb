{
  "nbformat": 4,
  "nbformat_minor": 0,
  "metadata": {
    "colab": {
      "provenance": [],
      "gpuType": "T4",
      "include_colab_link": true
    },
    "kernelspec": {
      "name": "python3",
      "display_name": "Python 3"
    },
    "language_info": {
      "name": "python"
    },
    "accelerator": "GPU"
  },
  "cells": [
    {
      "cell_type": "markdown",
      "metadata": {
        "id": "view-in-github",
        "colab_type": "text"
      },
      "source": [
        "<a href=\"https://colab.research.google.com/github/aadithyan69/test/blob/main/earthquakes.ipynb\" target=\"_parent\"><img src=\"https://colab.research.google.com/assets/colab-badge.svg\" alt=\"Open In Colab\"/></a>"
      ]
    },
    {
      "cell_type": "code",
      "execution_count": null,
      "metadata": {
        "id": "8Ew05OgVmGWy",
        "colab": {
          "base_uri": "https://localhost:8080/"
        },
        "outputId": "650d3ad6-d8d3-4c91-dd1e-b8e216c55a0c"
      },
      "outputs": [
        {
          "output_type": "stream",
          "name": "stdout",
          "text": [
            "Mounted at /content/drive\n"
          ]
        }
      ],
      "source": [
        "import pandas as pd\n",
        "from google.colab import drive\n",
        "drive.mount('/content/drive')"
      ]
    },
    {
      "cell_type": "code",
      "source": [
        "df=pd.read_csv('/content/drive/MyDrive/LUMINAR/database.csv')"
      ],
      "metadata": {
        "id": "jAOP9LKUraZX"
      },
      "execution_count": 6,
      "outputs": []
    },
    {
      "cell_type": "code",
      "source": [
        "df.isna().sum()"
      ],
      "metadata": {
        "colab": {
          "base_uri": "https://localhost:8080/"
        },
        "id": "QkYnwyVetfEA",
        "outputId": "c89dc462-f770-4995-edd7-5e364a4624ad"
      },
      "execution_count": 7,
      "outputs": [
        {
          "output_type": "execute_result",
          "data": {
            "text/plain": [
              "Date                              0\n",
              "Time                              0\n",
              "Latitude                          0\n",
              "Longitude                         0\n",
              "Type                              0\n",
              "Depth                             0\n",
              "Depth Error                   18951\n",
              "Depth Seismic Stations        16315\n",
              "Magnitude                         0\n",
              "Magnitude Type                    3\n",
              "Magnitude Error               23085\n",
              "Magnitude Seismic Stations    20848\n",
              "Azimuthal Gap                 16113\n",
              "Horizontal Distance           21808\n",
              "Horizontal Error              22256\n",
              "Root Mean Square               6060\n",
              "ID                                0\n",
              "Source                            0\n",
              "Location Source                   0\n",
              "Magnitude Source                  0\n",
              "Status                            0\n",
              "dtype: int64"
            ]
          },
          "metadata": {},
          "execution_count": 7
        }
      ]
    },
    {
      "cell_type": "code",
      "source": [
        "df.dtypes"
      ],
      "metadata": {
        "colab": {
          "base_uri": "https://localhost:8080/"
        },
        "id": "y_3KGfUitg46",
        "outputId": "6d508942-9a04-4b4b-b8c7-d4c04c5b0095"
      },
      "execution_count": 8,
      "outputs": [
        {
          "output_type": "execute_result",
          "data": {
            "text/plain": [
              "Date                           object\n",
              "Time                           object\n",
              "Latitude                      float64\n",
              "Longitude                     float64\n",
              "Type                           object\n",
              "Depth                         float64\n",
              "Depth Error                   float64\n",
              "Depth Seismic Stations        float64\n",
              "Magnitude                     float64\n",
              "Magnitude Type                 object\n",
              "Magnitude Error               float64\n",
              "Magnitude Seismic Stations    float64\n",
              "Azimuthal Gap                 float64\n",
              "Horizontal Distance           float64\n",
              "Horizontal Error              float64\n",
              "Root Mean Square              float64\n",
              "ID                             object\n",
              "Source                         object\n",
              "Location Source                object\n",
              "Magnitude Source               object\n",
              "Status                         object\n",
              "dtype: object"
            ]
          },
          "metadata": {},
          "execution_count": 8
        }
      ]
    },
    {
      "cell_type": "code",
      "source": [
        "df.info()"
      ],
      "metadata": {
        "colab": {
          "base_uri": "https://localhost:8080/"
        },
        "id": "TmhiV3Qytj4B",
        "outputId": "15729fed-5eca-4fe2-dc96-2aba2947f087"
      },
      "execution_count": 10,
      "outputs": [
        {
          "output_type": "stream",
          "name": "stdout",
          "text": [
            "<class 'pandas.core.frame.DataFrame'>\n",
            "RangeIndex: 23412 entries, 0 to 23411\n",
            "Data columns (total 21 columns):\n",
            " #   Column                      Non-Null Count  Dtype  \n",
            "---  ------                      --------------  -----  \n",
            " 0   Date                        23412 non-null  object \n",
            " 1   Time                        23412 non-null  object \n",
            " 2   Latitude                    23412 non-null  float64\n",
            " 3   Longitude                   23412 non-null  float64\n",
            " 4   Type                        23412 non-null  object \n",
            " 5   Depth                       23412 non-null  float64\n",
            " 6   Depth Error                 4461 non-null   float64\n",
            " 7   Depth Seismic Stations      7097 non-null   float64\n",
            " 8   Magnitude                   23412 non-null  float64\n",
            " 9   Magnitude Type              23409 non-null  object \n",
            " 10  Magnitude Error             327 non-null    float64\n",
            " 11  Magnitude Seismic Stations  2564 non-null   float64\n",
            " 12  Azimuthal Gap               7299 non-null   float64\n",
            " 13  Horizontal Distance         1604 non-null   float64\n",
            " 14  Horizontal Error            1156 non-null   float64\n",
            " 15  Root Mean Square            17352 non-null  float64\n",
            " 16  ID                          23412 non-null  object \n",
            " 17  Source                      23412 non-null  object \n",
            " 18  Location Source             23412 non-null  object \n",
            " 19  Magnitude Source            23412 non-null  object \n",
            " 20  Status                      23412 non-null  object \n",
            "dtypes: float64(12), object(9)\n",
            "memory usage: 3.8+ MB\n"
          ]
        }
      ]
    },
    {
      "cell_type": "code",
      "source": [],
      "metadata": {
        "id": "-P_89HQetk1m"
      },
      "execution_count": null,
      "outputs": []
    }
  ]
}